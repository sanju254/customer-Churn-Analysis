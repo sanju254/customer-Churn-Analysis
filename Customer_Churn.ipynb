{
 "cells": [
  {
   "cell_type": "code",
   "execution_count": 1,
   "metadata": {},
   "outputs": [],
   "source": [
    "import numpy as np\n",
    "import pandas as pd"
   ]
  },
  {
   "cell_type": "code",
   "execution_count": 2,
   "metadata": {},
   "outputs": [
    {
     "name": "stdout",
     "output_type": "stream",
     "text": [
      "C:\\Users\\Sanju032\\Desktop\\Python_Examples\\Antwak\\Class_1\\Assignment_Project\\Customer Data\n"
     ]
    }
   ],
   "source": [
    "cd C:\\\\Users\\\\Sanju032\\\\Desktop\\\\Python_Examples\\\\Antwak\\\\Class_1\\\\Assignment_Project\\\\Customer Data"
   ]
  },
  {
   "cell_type": "code",
   "execution_count": 3,
   "metadata": {},
   "outputs": [],
   "source": [
    "# Read all CSV files in different dataframes\n",
    "df1=pd.read_csv('Customer Attrition Status.csv')\n",
    "df2=pd.read_csv('Customer Demographics.csv')\n",
    "df3=pd.read_csv('Customer Investment Snapshot.csv')\n",
    "df4=pd.read_csv('Customer Portfolio Snapshot.csv')"
   ]
  },
  {
   "cell_type": "markdown",
   "metadata": {},
   "source": [
    "### display the number of null and shape of the data frames"
   ]
  },
  {
   "cell_type": "code",
   "execution_count": 4,
   "metadata": {},
   "outputs": [
    {
     "name": "stdout",
     "output_type": "stream",
     "text": [
      "Customer Attrition Status Data:    RowNumber  CustomerId  Exited\n",
      "0          1  15634602.0     1.0\n",
      "1          2  15647311.0     0.0\n",
      "2          3  15619304.0     1.0\n",
      "3          4  15701354.0     0.0\n",
      "4          5  15737888.0     0.0 \n",
      "\n",
      "The number of rows and columns: (10019, 3) \n",
      " Number of null values presented in df1:\n",
      " RowNumber      0\n",
      "CustomerId    19\n",
      "Exited        19\n",
      "dtype: int64\n",
      "\n",
      " customer Demographics data:\n",
      "    RowNumber  CustomerId   Surname Geography  Gender   Age\n",
      "0          1  15634602.0  Hargrave      West  Female  42.0\n",
      "1          2  15647311.0      Hill   Central  Female  41.0\n",
      "2          3  15619304.0      Onio      West  Female  42.0\n",
      "3          4  15701354.0      Boni      West  Female  39.0\n",
      "4          5  15737888.0  Mitchell   Central  Female  43.0 \n",
      "\n",
      " The number of rows and columns: (10019, 6) \n",
      " Number of null values presented in df2:\n",
      " RowNumber      0\n",
      "CustomerId    19\n",
      "Surname       19\n",
      "Geography     19\n",
      "Gender        19\n",
      "Age           19\n",
      "dtype: int64\n",
      "\n",
      "Customer Investment Snapshot Data:\n",
      "    RowNumber  CustomerId  Tenure  CreditScore    Balance  EstimatedSalary\n",
      "0          1  15634602.0     2.0        619.0        NaN        101348.88\n",
      "1          2  15647311.0     1.0        608.0   83807.86        112542.58\n",
      "2          3  15619304.0     8.0        502.0  159660.80        113931.57\n",
      "3          4  15701354.0     1.0        699.0        NaN         93826.63\n",
      "4          5  15737888.0     2.0        850.0  125510.82         79084.10 \n",
      "\n",
      "The number of rows and columns: (10019, 6) \n",
      " Number of null values presented in df3:\n",
      " RowNumber             0\n",
      "CustomerId           19\n",
      "Tenure               19\n",
      "CreditScore          22\n",
      "Balance            3636\n",
      "EstimatedSalary      19\n",
      "dtype: int64\n",
      "\n",
      "Customer Portfolio Snapshot Data:\n",
      "    RowNumber  CustomerId  NumOfProducts  HasChckng  IsActiveMember\n",
      "0       1288    15565701            1.0        0.0             0.0\n",
      "1       4199    15565706            1.0        1.0             1.0\n",
      "2       7091    15565714            2.0        0.0             1.0\n",
      "3       2021    15565779            1.0        1.0             0.0\n",
      "4       3698    15565796            1.0        1.0             0.0 \n",
      "\n",
      "The number of rows and columns: (10021, 5) \n",
      " Number of null values presented in df4:\n",
      " RowNumber          0\n",
      "CustomerId         0\n",
      "NumOfProducts     19\n",
      "HasChckng         19\n",
      "IsActiveMember    19\n",
      "dtype: int64\n"
     ]
    }
   ],
   "source": [
    "print('Customer Attrition Status Data:',df1.head(),'\\n\\nThe number of rows and columns:', df1.shape,'\\n Number of null values presented in df1:\\n',df1.isnull().sum())\n",
    "print('\\n customer Demographics data:\\n',df2.head(),'\\n\\n The number of rows and columns:', df2.shape,'\\n Number of null values presented in df2:\\n',df2.isnull().sum())\n",
    "print('\\nCustomer Investment Snapshot Data:\\n',df3.head(),'\\n\\nThe number of rows and columns:', df3.shape,'\\n Number of null values presented in df3:\\n',df3.isnull().sum())\n",
    "print('\\nCustomer Portfolio Snapshot Data:\\n',df4.head(), '\\n\\nThe number of rows and columns:',df4.shape,'\\n Number of null values presented in df4:\\n',df4.isnull().sum())"
   ]
  },
  {
   "cell_type": "markdown",
   "metadata": {},
   "source": [
    "### Perform EDA on the datasets and join them"
   ]
  },
  {
   "cell_type": "code",
   "execution_count": 5,
   "metadata": {},
   "outputs": [
    {
     "name": "stdout",
     "output_type": "stream",
     "text": [
      "shape of the merge data frame 1: (10019, 7) \n",
      "\n",
      " first five rows of merge df1:\n",
      "    RowNumber  CustomerId  Exited   Surname Geography  Gender   Age\n",
      "0          1  15634602.0     1.0  Hargrave      West  Female  42.0\n",
      "1          2  15647311.0     0.0      Hill   Central  Female  41.0\n",
      "2          3  15619304.0     1.0      Onio      West  Female  42.0\n",
      "3          4  15701354.0     0.0      Boni      West  Female  39.0\n",
      "4          5  15737888.0     0.0  Mitchell   Central  Female  43.0 \n",
      " Number of null values presented in first merged data frame df:\n",
      " RowNumber      0\n",
      "CustomerId    19\n",
      "Exited        19\n",
      "Surname       19\n",
      "Geography     19\n",
      "Gender        19\n",
      "Age           19\n",
      "dtype: int64\n"
     ]
    }
   ],
   "source": [
    "df_Merge1=pd.merge(df1,df2, on=('RowNumber','CustomerId'), how='outer')\n",
    "print('shape of the merge data frame 1:',df_Merge1.shape, '\\n\\n first five rows of merge df1:\\n',df_Merge1.head(),'\\n Number of null values presented in first merged data frame df:\\n',df_Merge1.isnull().sum())"
   ]
  },
  {
   "cell_type": "code",
   "execution_count": 6,
   "metadata": {},
   "outputs": [
    {
     "name": "stdout",
     "output_type": "stream",
     "text": [
      "\n",
      "shape of the merge data frame 2: (10040, 9) \n",
      "\n",
      " first five rows of merge df2:\n",
      "    RowNumber  CustomerId  Tenure  CreditScore    Balance  EstimatedSalary  \\\n",
      "0          1  15634602.0     2.0        619.0        NaN        101348.88   \n",
      "1          2  15647311.0     1.0        608.0   83807.86        112542.58   \n",
      "2          3  15619304.0     8.0        502.0  159660.80        113931.57   \n",
      "3          4  15701354.0     1.0        699.0        NaN         93826.63   \n",
      "4          5  15737888.0     2.0        850.0  125510.82         79084.10   \n",
      "\n",
      "   NumOfProducts  HasChckng  IsActiveMember  \n",
      "0            1.0        1.0             1.0  \n",
      "1            1.0        0.0             1.0  \n",
      "2            3.0        1.0             0.0  \n",
      "3            2.0        0.0             0.0  \n",
      "4            1.0        1.0             1.0   \n",
      " Number of null values presented in second merged data frame df:\n",
      " RowNumber             0\n",
      "CustomerId           19\n",
      "Tenure               38\n",
      "CreditScore          41\n",
      "Balance            3655\n",
      "EstimatedSalary      38\n",
      "NumOfProducts        38\n",
      "HasChckng            38\n",
      "IsActiveMember       38\n",
      "dtype: int64\n"
     ]
    }
   ],
   "source": [
    "df_Merge2=pd.merge(df3,df4,on=('RowNumber','CustomerId'), how='outer')\n",
    "print('\\nshape of the merge data frame 2:',df_Merge2.shape, '\\n\\n first five rows of merge df2:\\n',df_Merge2.head(),'\\n Number of null values presented in second merged data frame df:\\n',df_Merge2.isnull().sum())"
   ]
  },
  {
   "cell_type": "code",
   "execution_count": 7,
   "metadata": {},
   "outputs": [
    {
     "name": "stdout",
     "output_type": "stream",
     "text": [
      "\n",
      "hape of the final merged data frame: (10040, 14) \n",
      "\n",
      " first five rows of final merged df:\n",
      "    RowNumber  CustomerId  Exited   Surname Geography  Gender   Age  Tenure  \\\n",
      "0          1  15634602.0     1.0  Hargrave      West  Female  42.0     2.0   \n",
      "1          2  15647311.0     0.0      Hill   Central  Female  41.0     1.0   \n",
      "2          3  15619304.0     1.0      Onio      West  Female  42.0     8.0   \n",
      "3          4  15701354.0     0.0      Boni      West  Female  39.0     1.0   \n",
      "4          5  15737888.0     0.0  Mitchell   Central  Female  43.0     2.0   \n",
      "\n",
      "   CreditScore    Balance  EstimatedSalary  NumOfProducts  HasChckng  \\\n",
      "0        619.0        NaN        101348.88            1.0        1.0   \n",
      "1        608.0   83807.86        112542.58            1.0        0.0   \n",
      "2        502.0  159660.80        113931.57            3.0        1.0   \n",
      "3        699.0        NaN         93826.63            2.0        0.0   \n",
      "4        850.0  125510.82         79084.10            1.0        1.0   \n",
      "\n",
      "   IsActiveMember  \n",
      "0             1.0  \n",
      "1             1.0  \n",
      "2             0.0  \n",
      "3             0.0  \n",
      "4             1.0   \n",
      " Number of null values presented in final merged data frame df:\n",
      " RowNumber             0\n",
      "CustomerId           19\n",
      "Exited               38\n",
      "Surname              38\n",
      "Geography            38\n",
      "Gender               38\n",
      "Age                  38\n",
      "Tenure               38\n",
      "CreditScore          41\n",
      "Balance            3655\n",
      "EstimatedSalary      38\n",
      "NumOfProducts        38\n",
      "HasChckng            38\n",
      "IsActiveMember       38\n",
      "dtype: int64\n"
     ]
    }
   ],
   "source": [
    "df=pd.merge(df_Merge1,df_Merge2,on=('RowNumber','CustomerId'), how='outer')\n",
    "print('\\nhape of the final merged data frame:',df.shape, '\\n\\n first five rows of final merged df:\\n',df.head(),'\\n Number of null values presented in final merged data frame df:\\n',df.isnull().sum())"
   ]
  },
  {
   "cell_type": "code",
   "execution_count": 8,
   "metadata": {},
   "outputs": [],
   "source": [
    "# Rearrange the columns\n",
    "df=df[['RowNumber','CustomerId','Surname','CreditScore','Geography','Gender','Age','Tenure','Balance','NumOfProducts','HasChckng','IsActiveMember','EstimatedSalary','Exited']]"
   ]
  },
  {
   "cell_type": "code",
   "execution_count": 9,
   "metadata": {},
   "outputs": [
    {
     "data": {
      "text/html": [
       "<div>\n",
       "<style scoped>\n",
       "    .dataframe tbody tr th:only-of-type {\n",
       "        vertical-align: middle;\n",
       "    }\n",
       "\n",
       "    .dataframe tbody tr th {\n",
       "        vertical-align: top;\n",
       "    }\n",
       "\n",
       "    .dataframe thead th {\n",
       "        text-align: right;\n",
       "    }\n",
       "</style>\n",
       "<table border=\"1\" class=\"dataframe\">\n",
       "  <thead>\n",
       "    <tr style=\"text-align: right;\">\n",
       "      <th></th>\n",
       "      <th>RowNumber</th>\n",
       "      <th>CustomerId</th>\n",
       "      <th>Surname</th>\n",
       "      <th>CreditScore</th>\n",
       "      <th>Geography</th>\n",
       "      <th>Gender</th>\n",
       "      <th>Age</th>\n",
       "      <th>Tenure</th>\n",
       "      <th>Balance</th>\n",
       "      <th>NumOfProducts</th>\n",
       "      <th>HasChckng</th>\n",
       "      <th>IsActiveMember</th>\n",
       "      <th>EstimatedSalary</th>\n",
       "      <th>Exited</th>\n",
       "    </tr>\n",
       "  </thead>\n",
       "  <tbody>\n",
       "    <tr>\n",
       "      <th>0</th>\n",
       "      <td>1</td>\n",
       "      <td>15634602.0</td>\n",
       "      <td>Hargrave</td>\n",
       "      <td>619.0</td>\n",
       "      <td>West</td>\n",
       "      <td>Female</td>\n",
       "      <td>42.0</td>\n",
       "      <td>2.0</td>\n",
       "      <td>NaN</td>\n",
       "      <td>1.0</td>\n",
       "      <td>1.0</td>\n",
       "      <td>1.0</td>\n",
       "      <td>101348.88</td>\n",
       "      <td>1.0</td>\n",
       "    </tr>\n",
       "    <tr>\n",
       "      <th>1</th>\n",
       "      <td>2</td>\n",
       "      <td>15647311.0</td>\n",
       "      <td>Hill</td>\n",
       "      <td>608.0</td>\n",
       "      <td>Central</td>\n",
       "      <td>Female</td>\n",
       "      <td>41.0</td>\n",
       "      <td>1.0</td>\n",
       "      <td>83807.86</td>\n",
       "      <td>1.0</td>\n",
       "      <td>0.0</td>\n",
       "      <td>1.0</td>\n",
       "      <td>112542.58</td>\n",
       "      <td>0.0</td>\n",
       "    </tr>\n",
       "    <tr>\n",
       "      <th>2</th>\n",
       "      <td>3</td>\n",
       "      <td>15619304.0</td>\n",
       "      <td>Onio</td>\n",
       "      <td>502.0</td>\n",
       "      <td>West</td>\n",
       "      <td>Female</td>\n",
       "      <td>42.0</td>\n",
       "      <td>8.0</td>\n",
       "      <td>159660.80</td>\n",
       "      <td>3.0</td>\n",
       "      <td>1.0</td>\n",
       "      <td>0.0</td>\n",
       "      <td>113931.57</td>\n",
       "      <td>1.0</td>\n",
       "    </tr>\n",
       "    <tr>\n",
       "      <th>3</th>\n",
       "      <td>4</td>\n",
       "      <td>15701354.0</td>\n",
       "      <td>Boni</td>\n",
       "      <td>699.0</td>\n",
       "      <td>West</td>\n",
       "      <td>Female</td>\n",
       "      <td>39.0</td>\n",
       "      <td>1.0</td>\n",
       "      <td>NaN</td>\n",
       "      <td>2.0</td>\n",
       "      <td>0.0</td>\n",
       "      <td>0.0</td>\n",
       "      <td>93826.63</td>\n",
       "      <td>0.0</td>\n",
       "    </tr>\n",
       "    <tr>\n",
       "      <th>4</th>\n",
       "      <td>5</td>\n",
       "      <td>15737888.0</td>\n",
       "      <td>Mitchell</td>\n",
       "      <td>850.0</td>\n",
       "      <td>Central</td>\n",
       "      <td>Female</td>\n",
       "      <td>43.0</td>\n",
       "      <td>2.0</td>\n",
       "      <td>125510.82</td>\n",
       "      <td>1.0</td>\n",
       "      <td>1.0</td>\n",
       "      <td>1.0</td>\n",
       "      <td>79084.10</td>\n",
       "      <td>0.0</td>\n",
       "    </tr>\n",
       "  </tbody>\n",
       "</table>\n",
       "</div>"
      ],
      "text/plain": [
       "   RowNumber  CustomerId   Surname  CreditScore Geography  Gender   Age  \\\n",
       "0          1  15634602.0  Hargrave        619.0      West  Female  42.0   \n",
       "1          2  15647311.0      Hill        608.0   Central  Female  41.0   \n",
       "2          3  15619304.0      Onio        502.0      West  Female  42.0   \n",
       "3          4  15701354.0      Boni        699.0      West  Female  39.0   \n",
       "4          5  15737888.0  Mitchell        850.0   Central  Female  43.0   \n",
       "\n",
       "   Tenure    Balance  NumOfProducts  HasChckng  IsActiveMember  \\\n",
       "0     2.0        NaN            1.0        1.0             1.0   \n",
       "1     1.0   83807.86            1.0        0.0             1.0   \n",
       "2     8.0  159660.80            3.0        1.0             0.0   \n",
       "3     1.0        NaN            2.0        0.0             0.0   \n",
       "4     2.0  125510.82            1.0        1.0             1.0   \n",
       "\n",
       "   EstimatedSalary  Exited  \n",
       "0        101348.88     1.0  \n",
       "1        112542.58     0.0  \n",
       "2        113931.57     1.0  \n",
       "3         93826.63     0.0  \n",
       "4         79084.10     0.0  "
      ]
     },
     "execution_count": 9,
     "metadata": {},
     "output_type": "execute_result"
    }
   ],
   "source": [
    "df.head()"
   ]
  },
  {
   "cell_type": "code",
   "execution_count": 10,
   "metadata": {},
   "outputs": [],
   "source": [
    "# df.set_index('RowNumber', inplace = True)\n",
    "# df.head()"
   ]
  },
  {
   "cell_type": "code",
   "execution_count": 11,
   "metadata": {},
   "outputs": [
    {
     "data": {
      "text/plain": [
       "RowNumber          10019\n",
       "CustomerId         10019\n",
       "Surname             2932\n",
       "CreditScore          462\n",
       "Geography              3\n",
       "Gender                 3\n",
       "Age                   72\n",
       "Tenure                12\n",
       "Balance             6381\n",
       "NumOfProducts          4\n",
       "HasChckng              2\n",
       "IsActiveMember         2\n",
       "EstimatedSalary     9999\n",
       "Exited                 2\n",
       "dtype: int64"
      ]
     },
     "execution_count": 11,
     "metadata": {},
     "output_type": "execute_result"
    }
   ],
   "source": [
    "# Find the number of unique sample presented in each column\n",
    "df.nunique(dropna = True)"
   ]
  },
  {
   "cell_type": "code",
   "execution_count": 12,
   "metadata": {},
   "outputs": [],
   "source": [
    "# sort the values based on CustomerId\n",
    "# df.sort_values(\"CustomerId\", inplace = True)\n",
    "# df.head()"
   ]
  },
  {
   "cell_type": "code",
   "execution_count": 13,
   "metadata": {},
   "outputs": [
    {
     "data": {
      "text/plain": [
       "(10020, 14)"
      ]
     },
     "execution_count": 13,
     "metadata": {},
     "output_type": "execute_result"
    }
   ],
   "source": [
    "df.drop_duplicates(subset =\"CustomerId\", inplace = True)\n",
    "df.shape"
   ]
  },
  {
   "cell_type": "code",
   "execution_count": 14,
   "metadata": {},
   "outputs": [],
   "source": [
    "df.dropna(how='all',inplace=True)"
   ]
  },
  {
   "cell_type": "code",
   "execution_count": 15,
   "metadata": {},
   "outputs": [
    {
     "data": {
      "text/plain": [
       "RowNumber             0\n",
       "CustomerId            1\n",
       "Surname              20\n",
       "CreditScore          23\n",
       "Geography            20\n",
       "Gender               20\n",
       "Age                  20\n",
       "Tenure               20\n",
       "Balance            3637\n",
       "NumOfProducts        20\n",
       "HasChckng            20\n",
       "IsActiveMember       20\n",
       "EstimatedSalary      20\n",
       "Exited               20\n",
       "dtype: int64"
      ]
     },
     "execution_count": 15,
     "metadata": {},
     "output_type": "execute_result"
    }
   ],
   "source": [
    "df.isnull().sum()"
   ]
  },
  {
   "cell_type": "code",
   "execution_count": 16,
   "metadata": {},
   "outputs": [],
   "source": [
    "df.drop('RowNumber',axis=1,inplace=True)"
   ]
  },
  {
   "cell_type": "code",
   "execution_count": 17,
   "metadata": {},
   "outputs": [],
   "source": [
    "df.drop_duplicates(subset =\"CustomerId\", inplace = True)"
   ]
  },
  {
   "cell_type": "code",
   "execution_count": 18,
   "metadata": {},
   "outputs": [
    {
     "data": {
      "text/plain": [
       "CustomerId            0\n",
       "Surname              19\n",
       "CreditScore          22\n",
       "Geography            19\n",
       "Gender               19\n",
       "Age                  19\n",
       "Tenure               19\n",
       "Balance            3636\n",
       "NumOfProducts        19\n",
       "HasChckng            19\n",
       "IsActiveMember       19\n",
       "EstimatedSalary      19\n",
       "Exited               19\n",
       "dtype: int64"
      ]
     },
     "execution_count": 18,
     "metadata": {},
     "output_type": "execute_result"
    }
   ],
   "source": [
    "df.dropna(how='all',inplace=True)\n",
    "df.isnull().sum()"
   ]
  },
  {
   "cell_type": "code",
   "execution_count": 19,
   "metadata": {},
   "outputs": [
    {
     "name": "stdout",
     "output_type": "stream",
     "text": [
      "Collecting package metadata (current_repodata.json): ...working... done\n",
      "Solving environment: ...working... done\n",
      "\n",
      "## Package Plan ##\n",
      "\n",
      "  environment location: C:\\ProgramData\\Anaconda3\n",
      "\n",
      "  added / updated specs:\n",
      "    - seaborn=0.9.0\n",
      "\n",
      "\n",
      "The following NEW packages will be INSTALLED:\n",
      "\n",
      "  tbb                pkgs/main/win-64::tbb-2018.0.5-he980bc4_0\n",
      "\n",
      "The following packages will be UPDATED:\n",
      "\n",
      "  conda                                4.9.2-py37haa95532_0 --> 4.10.3-py37haa95532_0\n",
      "\n",
      "\n",
      "Preparing transaction: ...working... done\n",
      "Verifying transaction: ...working... failed\n",
      "\n",
      "Note: you may need to restart the kernel to use updated packages.\n"
     ]
    },
    {
     "name": "stderr",
     "output_type": "stream",
     "text": [
      "\n",
      "The environment is inconsistent, please check the package plan carefully\n",
      "The following packages are causing the inconsistency:\n",
      "\n",
      "  - defaults/win-64::anaconda==2019.07=py37_0\n",
      "  - defaults/win-64::numba==0.44.1=py37hf9181ef_0\n",
      "\n",
      "EnvironmentNotWritableError: The current user does not have write permissions to the target environment.\n",
      "  environment location: C:\\ProgramData\\Anaconda3\n",
      "\n",
      "\n"
     ]
    }
   ],
   "source": [
    "# conda install seaborn=0.9.0"
   ]
  },
  {
   "cell_type": "code",
   "execution_count": 20,
   "metadata": {},
   "outputs": [],
   "source": [
    "# import visualization libraries\n",
    "import matplotlib.pyplot as plt\n",
    "import seaborn as sns\n",
    "plt.style.use('ggplot')\n",
    "%matplotlib inline"
   ]
  },
  {
   "cell_type": "code",
   "execution_count": 21,
   "metadata": {},
   "outputs": [
    {
     "data": {
      "text/plain": [
       "(array([ 0,  1,  2,  3,  4,  5,  6,  7,  8,  9, 10, 11, 12]),\n",
       " <a list of 13 Text xticklabel objects>)"
      ]
     },
     "execution_count": 21,
     "metadata": {},
     "output_type": "execute_result"
    },
    {
     "data": {
      "image/png": "[encoded data removed]",
      "text/plain": [
       "<Figure size 432x288 with 1 Axes>"
      ]
     },
     "metadata": {
      "needs_background": "light"
     },
     "output_type": "display_data"
    }
   ],
   "source": [
    "null_set = df.isnull().sum()\n",
    "sns.barplot(x=null_set.index,y=null_set)\n",
    "plt.xticks(rotation=45)"
   ]
  },
  {
   "cell_type": "code",
   "execution_count": 22,
   "metadata": {},
   "outputs": [
    {
     "data": {
      "text/html": [
       "<div>\n",
       "<style scoped>\n",
       "    .dataframe tbody tr th:only-of-type {\n",
       "        vertical-align: middle;\n",
       "    }\n",
       "\n",
       "    .dataframe tbody tr th {\n",
       "        vertical-align: top;\n",
       "    }\n",
       "\n",
       "    .dataframe thead th {\n",
       "        text-align: right;\n",
       "    }\n",
       "</style>\n",
       "<table border=\"1\" class=\"dataframe\">\n",
       "  <thead>\n",
       "    <tr style=\"text-align: right;\">\n",
       "      <th></th>\n",
       "      <th>Surname</th>\n",
       "      <th>CreditScore</th>\n",
       "      <th>Geography</th>\n",
       "      <th>Gender</th>\n",
       "      <th>Age</th>\n",
       "      <th>Tenure</th>\n",
       "      <th>Balance</th>\n",
       "      <th>NumOfProducts</th>\n",
       "      <th>HasChckng</th>\n",
       "      <th>IsActiveMember</th>\n",
       "      <th>EstimatedSalary</th>\n",
       "      <th>Exited</th>\n",
       "    </tr>\n",
       "    <tr>\n",
       "      <th>CustomerId</th>\n",
       "      <th></th>\n",
       "      <th></th>\n",
       "      <th></th>\n",
       "      <th></th>\n",
       "      <th></th>\n",
       "      <th></th>\n",
       "      <th></th>\n",
       "      <th></th>\n",
       "      <th></th>\n",
       "      <th></th>\n",
       "      <th></th>\n",
       "      <th></th>\n",
       "    </tr>\n",
       "  </thead>\n",
       "  <tbody>\n",
       "    <tr>\n",
       "      <th>15634602.0</th>\n",
       "      <td>Hargrave</td>\n",
       "      <td>619.0</td>\n",
       "      <td>West</td>\n",
       "      <td>Female</td>\n",
       "      <td>42.0</td>\n",
       "      <td>2.0</td>\n",
       "      <td>NaN</td>\n",
       "      <td>1.0</td>\n",
       "      <td>1.0</td>\n",
       "      <td>1.0</td>\n",
       "      <td>101348.88</td>\n",
       "      <td>1.0</td>\n",
       "    </tr>\n",
       "    <tr>\n",
       "      <th>15647311.0</th>\n",
       "      <td>Hill</td>\n",
       "      <td>608.0</td>\n",
       "      <td>Central</td>\n",
       "      <td>Female</td>\n",
       "      <td>41.0</td>\n",
       "      <td>1.0</td>\n",
       "      <td>83807.86</td>\n",
       "      <td>1.0</td>\n",
       "      <td>0.0</td>\n",
       "      <td>1.0</td>\n",
       "      <td>112542.58</td>\n",
       "      <td>0.0</td>\n",
       "    </tr>\n",
       "    <tr>\n",
       "      <th>15619304.0</th>\n",
       "      <td>Onio</td>\n",
       "      <td>502.0</td>\n",
       "      <td>West</td>\n",
       "      <td>Female</td>\n",
       "      <td>42.0</td>\n",
       "      <td>8.0</td>\n",
       "      <td>159660.80</td>\n",
       "      <td>3.0</td>\n",
       "      <td>1.0</td>\n",
       "      <td>0.0</td>\n",
       "      <td>113931.57</td>\n",
       "      <td>1.0</td>\n",
       "    </tr>\n",
       "    <tr>\n",
       "      <th>15701354.0</th>\n",
       "      <td>Boni</td>\n",
       "      <td>699.0</td>\n",
       "      <td>West</td>\n",
       "      <td>Female</td>\n",
       "      <td>39.0</td>\n",
       "      <td>1.0</td>\n",
       "      <td>NaN</td>\n",
       "      <td>2.0</td>\n",
       "      <td>0.0</td>\n",
       "      <td>0.0</td>\n",
       "      <td>93826.63</td>\n",
       "      <td>0.0</td>\n",
       "    </tr>\n",
       "    <tr>\n",
       "      <th>15737888.0</th>\n",
       "      <td>Mitchell</td>\n",
       "      <td>850.0</td>\n",
       "      <td>Central</td>\n",
       "      <td>Female</td>\n",
       "      <td>43.0</td>\n",
       "      <td>2.0</td>\n",
       "      <td>125510.82</td>\n",
       "      <td>1.0</td>\n",
       "      <td>1.0</td>\n",
       "      <td>1.0</td>\n",
       "      <td>79084.10</td>\n",
       "      <td>0.0</td>\n",
       "    </tr>\n",
       "  </tbody>\n",
       "</table>\n",
       "</div>"
      ],
      "text/plain": [
       "             Surname  CreditScore Geography  Gender   Age  Tenure    Balance  \\\n",
       "CustomerId                                                                     \n",
       "15634602.0  Hargrave        619.0      West  Female  42.0     2.0        NaN   \n",
       "15647311.0      Hill        608.0   Central  Female  41.0     1.0   83807.86   \n",
       "15619304.0      Onio        502.0      West  Female  42.0     8.0  159660.80   \n",
       "15701354.0      Boni        699.0      West  Female  39.0     1.0        NaN   \n",
       "15737888.0  Mitchell        850.0   Central  Female  43.0     2.0  125510.82   \n",
       "\n",
       "            NumOfProducts  HasChckng  IsActiveMember  EstimatedSalary  Exited  \n",
       "CustomerId                                                                     \n",
       "15634602.0            1.0        1.0             1.0        101348.88     1.0  \n",
       "15647311.0            1.0        0.0             1.0        112542.58     0.0  \n",
       "15619304.0            3.0        1.0             0.0        113931.57     1.0  \n",
       "15701354.0            2.0        0.0             0.0         93826.63     0.0  \n",
       "15737888.0            1.0        1.0             1.0         79084.10     0.0  "
      ]
     },
     "execution_count": 22,
     "metadata": {},
     "output_type": "execute_result"
    }
   ],
   "source": [
    "df.set_index('CustomerId', inplace = True)\n",
    "df.head()"
   ]
  },
  {
   "cell_type": "code",
   "execution_count": 23,
   "metadata": {},
   "outputs": [],
   "source": [
    "df.dropna(how='all',inplace=True)\n",
    "# df"
   ]
  },
  {
   "cell_type": "code",
   "execution_count": 24,
   "metadata": {},
   "outputs": [],
   "source": [
    "df.sort_index(inplace=True)"
   ]
  },
  {
   "cell_type": "code",
   "execution_count": 25,
   "metadata": {},
   "outputs": [],
   "source": [
    "df.reset_index(inplace=True)"
   ]
  },
  {
   "cell_type": "code",
   "execution_count": 26,
   "metadata": {},
   "outputs": [
    {
     "data": {
      "text/plain": [
       "CustomerId            0\n",
       "Surname               0\n",
       "CreditScore           3\n",
       "Geography             0\n",
       "Gender                0\n",
       "Age                   0\n",
       "Tenure                0\n",
       "Balance            3617\n",
       "NumOfProducts         0\n",
       "HasChckng             0\n",
       "IsActiveMember        0\n",
       "EstimatedSalary       0\n",
       "Exited                0\n",
       "dtype: int64"
      ]
     },
     "execution_count": 26,
     "metadata": {},
     "output_type": "execute_result"
    }
   ],
   "source": [
    "df.isnull().sum()"
   ]
  },
  {
   "cell_type": "code",
   "execution_count": 27,
   "metadata": {},
   "outputs": [
    {
     "data": {
      "text/plain": [
       "(10000, 13)"
      ]
     },
     "execution_count": 27,
     "metadata": {},
     "output_type": "execute_result"
    }
   ],
   "source": [
    "# Using the concept of forward fill method from Pandas to fill missing values in Type\n",
    "\n",
    "df_M1 = df\n",
    "df_M1.shape"
   ]
  },
  {
   "cell_type": "code",
   "execution_count": 28,
   "metadata": {},
   "outputs": [],
   "source": [
    "#Mcols=['CreditScore','Balance']\n",
    "#for x in Mcols:\n",
    " #   df_M1.loc[df_M1[x].isnull(),x] = df_M1[x].median()\n",
    "    \n",
    "#df_M1[['CreditScore']] = df_M1[['CreditScore']].fillna(method=\"ffill\")\n",
    "#print('Null for df_M1:\\n',df_M1.isnull().sum(), '\\n Null for df:\\n',df.isnull().sum())\n",
    "#df_M1.head()"
   ]
  },
  {
   "cell_type": "code",
   "execution_count": 29,
   "metadata": {},
   "outputs": [],
   "source": [
    "# Apply mean for missing values\n",
    "# missing_column = ['Balance']\n",
    "#for i in missing_column:\n",
    "#    df_M1.loc[df_M1.loc[:,i].isnull(),i]=df_M1.loc[:,i].mean()"
   ]
  },
  {
   "cell_type": "code",
   "execution_count": 30,
   "metadata": {},
   "outputs": [],
   "source": [
    "#df_M1.isnull().sum()"
   ]
  },
  {
   "cell_type": "code",
   "execution_count": 31,
   "metadata": {},
   "outputs": [],
   "source": [
    "# apply interpolation to fill the missing values\n",
    "Mcols=['CreditScore','Balance']\n",
    "for x in Mcols:\n",
    "    df.loc[df[x].isnull(),x] = df[x].interpolate(method ='linear', limit_direction ='forward',inplace=True)\n",
    "    \n",
    "# df['Balance'].interpolate(method ='linear', limit_direction ='forward',inplace=True)"
   ]
  },
  {
   "cell_type": "code",
   "execution_count": 32,
   "metadata": {},
   "outputs": [
    {
     "data": {
      "text/plain": [
       "CustomerId         0\n",
       "Surname            0\n",
       "CreditScore        0\n",
       "Geography          0\n",
       "Gender             0\n",
       "Age                0\n",
       "Tenure             0\n",
       "Balance            0\n",
       "NumOfProducts      0\n",
       "HasChckng          0\n",
       "IsActiveMember     0\n",
       "EstimatedSalary    0\n",
       "Exited             0\n",
       "dtype: int64"
      ]
     },
     "execution_count": 32,
     "metadata": {},
     "output_type": "execute_result"
    }
   ],
   "source": [
    "df.isnull().sum()"
   ]
  },
  {
   "cell_type": "code",
   "execution_count": 33,
   "metadata": {},
   "outputs": [
    {
     "data": {
      "text/plain": [
       "CustomerId         float64\n",
       "Surname             object\n",
       "CreditScore        float64\n",
       "Geography           object\n",
       "Gender              object\n",
       "Age                float64\n",
       "Tenure             float64\n",
       "Balance            float64\n",
       "NumOfProducts      float64\n",
       "HasChckng          float64\n",
       "IsActiveMember     float64\n",
       "EstimatedSalary    float64\n",
       "Exited             float64\n",
       "dtype: object"
      ]
     },
     "execution_count": 33,
     "metadata": {},
     "output_type": "execute_result"
    }
   ],
   "source": [
    "df.dtypes"
   ]
  },
  {
   "cell_type": "code",
   "execution_count": 34,
   "metadata": {},
   "outputs": [
    {
     "data": {
      "text/html": [
       "<div>\n",
       "<style scoped>\n",
       "    .dataframe tbody tr th:only-of-type {\n",
       "        vertical-align: middle;\n",
       "    }\n",
       "\n",
       "    .dataframe tbody tr th {\n",
       "        vertical-align: top;\n",
       "    }\n",
       "\n",
       "    .dataframe thead th {\n",
       "        text-align: right;\n",
       "    }\n",
       "</style>\n",
       "<table border=\"1\" class=\"dataframe\">\n",
       "  <thead>\n",
       "    <tr style=\"text-align: right;\">\n",
       "      <th></th>\n",
       "      <th>CustomerId</th>\n",
       "      <th>CreditScore</th>\n",
       "      <th>Age</th>\n",
       "      <th>Tenure</th>\n",
       "      <th>Balance</th>\n",
       "      <th>NumOfProducts</th>\n",
       "      <th>HasChckng</th>\n",
       "      <th>IsActiveMember</th>\n",
       "      <th>EstimatedSalary</th>\n",
       "      <th>Exited</th>\n",
       "    </tr>\n",
       "  </thead>\n",
       "  <tbody>\n",
       "    <tr>\n",
       "      <th>count</th>\n",
       "      <td>1.000000e+04</td>\n",
       "      <td>10000.000000</td>\n",
       "      <td>10000.000000</td>\n",
       "      <td>10000.000000</td>\n",
       "      <td>10000.000000</td>\n",
       "      <td>10000.000000</td>\n",
       "      <td>10000.00000</td>\n",
       "      <td>10000.000000</td>\n",
       "      <td>10000.000000</td>\n",
       "      <td>10000.000000</td>\n",
       "    </tr>\n",
       "    <tr>\n",
       "      <th>mean</th>\n",
       "      <td>1.569094e+07</td>\n",
       "      <td>650.494350</td>\n",
       "      <td>38.943500</td>\n",
       "      <td>5.015400</td>\n",
       "      <td>119850.829299</td>\n",
       "      <td>1.530200</td>\n",
       "      <td>0.70550</td>\n",
       "      <td>0.515100</td>\n",
       "      <td>100090.239881</td>\n",
       "      <td>0.203700</td>\n",
       "    </tr>\n",
       "    <tr>\n",
       "      <th>std</th>\n",
       "      <td>7.193619e+04</td>\n",
       "      <td>96.699981</td>\n",
       "      <td>10.613726</td>\n",
       "      <td>2.902931</td>\n",
       "      <td>27463.539126</td>\n",
       "      <td>0.581654</td>\n",
       "      <td>0.45584</td>\n",
       "      <td>0.499797</td>\n",
       "      <td>57510.492818</td>\n",
       "      <td>0.402769</td>\n",
       "    </tr>\n",
       "    <tr>\n",
       "      <th>min</th>\n",
       "      <td>1.556570e+07</td>\n",
       "      <td>305.000000</td>\n",
       "      <td>18.000000</td>\n",
       "      <td>0.000000</td>\n",
       "      <td>3768.690000</td>\n",
       "      <td>1.000000</td>\n",
       "      <td>0.00000</td>\n",
       "      <td>0.000000</td>\n",
       "      <td>11.580000</td>\n",
       "      <td>0.000000</td>\n",
       "    </tr>\n",
       "    <tr>\n",
       "      <th>25%</th>\n",
       "      <td>1.562853e+07</td>\n",
       "      <td>584.000000</td>\n",
       "      <td>32.000000</td>\n",
       "      <td>3.000000</td>\n",
       "      <td>102471.818750</td>\n",
       "      <td>1.000000</td>\n",
       "      <td>0.00000</td>\n",
       "      <td>0.000000</td>\n",
       "      <td>51002.110000</td>\n",
       "      <td>0.000000</td>\n",
       "    </tr>\n",
       "    <tr>\n",
       "      <th>50%</th>\n",
       "      <td>1.569074e+07</td>\n",
       "      <td>652.000000</td>\n",
       "      <td>37.000000</td>\n",
       "      <td>5.000000</td>\n",
       "      <td>119762.385000</td>\n",
       "      <td>1.000000</td>\n",
       "      <td>1.00000</td>\n",
       "      <td>1.000000</td>\n",
       "      <td>100193.915000</td>\n",
       "      <td>0.000000</td>\n",
       "    </tr>\n",
       "    <tr>\n",
       "      <th>75%</th>\n",
       "      <td>1.575323e+07</td>\n",
       "      <td>718.000000</td>\n",
       "      <td>44.000000</td>\n",
       "      <td>7.250000</td>\n",
       "      <td>137264.721667</td>\n",
       "      <td>2.000000</td>\n",
       "      <td>1.00000</td>\n",
       "      <td>1.000000</td>\n",
       "      <td>149388.247500</td>\n",
       "      <td>0.000000</td>\n",
       "    </tr>\n",
       "    <tr>\n",
       "      <th>max</th>\n",
       "      <td>1.581569e+07</td>\n",
       "      <td>865.000000</td>\n",
       "      <td>190.000000</td>\n",
       "      <td>30.000000</td>\n",
       "      <td>250898.090000</td>\n",
       "      <td>4.000000</td>\n",
       "      <td>1.00000</td>\n",
       "      <td>1.000000</td>\n",
       "      <td>199992.480000</td>\n",
       "      <td>1.000000</td>\n",
       "    </tr>\n",
       "  </tbody>\n",
       "</table>\n",
       "</div>"
      ],
      "text/plain": [
       "         CustomerId   CreditScore           Age        Tenure        Balance  \\\n",
       "count  1.000000e+04  10000.000000  10000.000000  10000.000000   10000.000000   \n",
       "mean   1.569094e+07    650.494350     38.943500      5.015400  119850.829299   \n",
       "std    7.193619e+04     96.699981     10.613726      2.902931   27463.539126   \n",
       "min    1.556570e+07    305.000000     18.000000      0.000000    3768.690000   \n",
       "25%    1.562853e+07    584.000000     32.000000      3.000000  102471.818750   \n",
       "50%    1.569074e+07    652.000000     37.000000      5.000000  119762.385000   \n",
       "75%    1.575323e+07    718.000000     44.000000      7.250000  137264.721667   \n",
       "max    1.581569e+07    865.000000    190.000000     30.000000  250898.090000   \n",
       "\n",
       "       NumOfProducts    HasChckng  IsActiveMember  EstimatedSalary  \\\n",
       "count   10000.000000  10000.00000    10000.000000     10000.000000   \n",
       "mean        1.530200      0.70550        0.515100    100090.239881   \n",
       "std         0.581654      0.45584        0.499797     57510.492818   \n",
       "min         1.000000      0.00000        0.000000        11.580000   \n",
       "25%         1.000000      0.00000        0.000000     51002.110000   \n",
       "50%         1.000000      1.00000        1.000000    100193.915000   \n",
       "75%         2.000000      1.00000        1.000000    149388.247500   \n",
       "max         4.000000      1.00000        1.000000    199992.480000   \n",
       "\n",
       "             Exited  \n",
       "count  10000.000000  \n",
       "mean       0.203700  \n",
       "std        0.402769  \n",
       "min        0.000000  \n",
       "25%        0.000000  \n",
       "50%        0.000000  \n",
       "75%        0.000000  \n",
       "max        1.000000  "
      ]
     },
     "execution_count": 34,
     "metadata": {},
     "output_type": "execute_result"
    }
   ],
   "source": [
    "# Perform Basic statitistical analysis for the dataset\n",
    "df.describe()"
   ]
  },
  {
   "cell_type": "code",
   "execution_count": 35,
   "metadata": {},
   "outputs": [
    {
     "data": {
      "text/html": [
       "<div>\n",
       "<style scoped>\n",
       "    .dataframe tbody tr th:only-of-type {\n",
       "        vertical-align: middle;\n",
       "    }\n",
       "\n",
       "    .dataframe tbody tr th {\n",
       "        vertical-align: top;\n",
       "    }\n",
       "\n",
       "    .dataframe thead th {\n",
       "        text-align: right;\n",
       "    }\n",
       "</style>\n",
       "<table border=\"1\" class=\"dataframe\">\n",
       "  <thead>\n",
       "    <tr style=\"text-align: right;\">\n",
       "      <th></th>\n",
       "      <th>CustomerId</th>\n",
       "      <th>CreditScore</th>\n",
       "      <th>Age</th>\n",
       "      <th>Tenure</th>\n",
       "      <th>Balance</th>\n",
       "      <th>NumOfProducts</th>\n",
       "      <th>HasChckng</th>\n",
       "      <th>IsActiveMember</th>\n",
       "      <th>EstimatedSalary</th>\n",
       "      <th>Exited</th>\n",
       "    </tr>\n",
       "  </thead>\n",
       "  <tbody>\n",
       "    <tr>\n",
       "      <th>CustomerId</th>\n",
       "      <td>1.000000</td>\n",
       "      <td>0.005800</td>\n",
       "      <td>0.008627</td>\n",
       "      <td>-0.015261</td>\n",
       "      <td>-0.008977</td>\n",
       "      <td>0.016972</td>\n",
       "      <td>-0.014025</td>\n",
       "      <td>0.001665</td>\n",
       "      <td>0.015271</td>\n",
       "      <td>-0.006248</td>\n",
       "    </tr>\n",
       "    <tr>\n",
       "      <th>CreditScore</th>\n",
       "      <td>0.005800</td>\n",
       "      <td>1.000000</td>\n",
       "      <td>-0.004077</td>\n",
       "      <td>-0.002044</td>\n",
       "      <td>-0.002359</td>\n",
       "      <td>0.011988</td>\n",
       "      <td>-0.005908</td>\n",
       "      <td>0.025844</td>\n",
       "      <td>-0.002223</td>\n",
       "      <td>-0.027778</td>\n",
       "    </tr>\n",
       "    <tr>\n",
       "      <th>Age</th>\n",
       "      <td>0.008627</td>\n",
       "      <td>-0.004077</td>\n",
       "      <td>1.000000</td>\n",
       "      <td>-0.009025</td>\n",
       "      <td>-0.005696</td>\n",
       "      <td>-0.028665</td>\n",
       "      <td>-0.013279</td>\n",
       "      <td>0.082351</td>\n",
       "      <td>-0.009181</td>\n",
       "      <td>0.280904</td>\n",
       "    </tr>\n",
       "    <tr>\n",
       "      <th>Tenure</th>\n",
       "      <td>-0.015261</td>\n",
       "      <td>-0.002044</td>\n",
       "      <td>-0.009025</td>\n",
       "      <td>1.000000</td>\n",
       "      <td>-0.000998</td>\n",
       "      <td>0.017197</td>\n",
       "      <td>0.023078</td>\n",
       "      <td>-0.029180</td>\n",
       "      <td>0.008055</td>\n",
       "      <td>-0.012178</td>\n",
       "    </tr>\n",
       "    <tr>\n",
       "      <th>Balance</th>\n",
       "      <td>-0.008977</td>\n",
       "      <td>-0.002359</td>\n",
       "      <td>-0.005696</td>\n",
       "      <td>-0.000998</td>\n",
       "      <td>1.000000</td>\n",
       "      <td>-0.000343</td>\n",
       "      <td>0.005006</td>\n",
       "      <td>-0.007108</td>\n",
       "      <td>-0.004927</td>\n",
       "      <td>0.017101</td>\n",
       "    </tr>\n",
       "    <tr>\n",
       "      <th>NumOfProducts</th>\n",
       "      <td>0.016972</td>\n",
       "      <td>0.011988</td>\n",
       "      <td>-0.028665</td>\n",
       "      <td>0.017197</td>\n",
       "      <td>-0.000343</td>\n",
       "      <td>1.000000</td>\n",
       "      <td>0.003183</td>\n",
       "      <td>0.009612</td>\n",
       "      <td>0.014204</td>\n",
       "      <td>-0.047820</td>\n",
       "    </tr>\n",
       "    <tr>\n",
       "      <th>HasChckng</th>\n",
       "      <td>-0.014025</td>\n",
       "      <td>-0.005908</td>\n",
       "      <td>-0.013279</td>\n",
       "      <td>0.023078</td>\n",
       "      <td>0.005006</td>\n",
       "      <td>0.003183</td>\n",
       "      <td>1.000000</td>\n",
       "      <td>-0.011866</td>\n",
       "      <td>-0.009933</td>\n",
       "      <td>-0.007138</td>\n",
       "    </tr>\n",
       "    <tr>\n",
       "      <th>IsActiveMember</th>\n",
       "      <td>0.001665</td>\n",
       "      <td>0.025844</td>\n",
       "      <td>0.082351</td>\n",
       "      <td>-0.029180</td>\n",
       "      <td>-0.007108</td>\n",
       "      <td>0.009612</td>\n",
       "      <td>-0.011866</td>\n",
       "      <td>1.000000</td>\n",
       "      <td>-0.011421</td>\n",
       "      <td>-0.156128</td>\n",
       "    </tr>\n",
       "    <tr>\n",
       "      <th>EstimatedSalary</th>\n",
       "      <td>0.015271</td>\n",
       "      <td>-0.002223</td>\n",
       "      <td>-0.009181</td>\n",
       "      <td>0.008055</td>\n",
       "      <td>-0.004927</td>\n",
       "      <td>0.014204</td>\n",
       "      <td>-0.009933</td>\n",
       "      <td>-0.011421</td>\n",
       "      <td>1.000000</td>\n",
       "      <td>0.012097</td>\n",
       "    </tr>\n",
       "    <tr>\n",
       "      <th>Exited</th>\n",
       "      <td>-0.006248</td>\n",
       "      <td>-0.027778</td>\n",
       "      <td>0.280904</td>\n",
       "      <td>-0.012178</td>\n",
       "      <td>0.017101</td>\n",
       "      <td>-0.047820</td>\n",
       "      <td>-0.007138</td>\n",
       "      <td>-0.156128</td>\n",
       "      <td>0.012097</td>\n",
       "      <td>1.000000</td>\n",
       "    </tr>\n",
       "  </tbody>\n",
       "</table>\n",
       "</div>"
      ],
      "text/plain": [
       "                 CustomerId  CreditScore       Age    Tenure   Balance  \\\n",
       "CustomerId         1.000000     0.005800  0.008627 -0.015261 -0.008977   \n",
       "CreditScore        0.005800     1.000000 -0.004077 -0.002044 -0.002359   \n",
       "Age                0.008627    -0.004077  1.000000 -0.009025 -0.005696   \n",
       "Tenure            -0.015261    -0.002044 -0.009025  1.000000 -0.000998   \n",
       "Balance           -0.008977    -0.002359 -0.005696 -0.000998  1.000000   \n",
       "NumOfProducts      0.016972     0.011988 -0.028665  0.017197 -0.000343   \n",
       "HasChckng         -0.014025    -0.005908 -0.013279  0.023078  0.005006   \n",
       "IsActiveMember     0.001665     0.025844  0.082351 -0.029180 -0.007108   \n",
       "EstimatedSalary    0.015271    -0.002223 -0.009181  0.008055 -0.004927   \n",
       "Exited            -0.006248    -0.027778  0.280904 -0.012178  0.017101   \n",
       "\n",
       "                 NumOfProducts  HasChckng  IsActiveMember  EstimatedSalary  \\\n",
       "CustomerId            0.016972  -0.014025        0.001665         0.015271   \n",
       "CreditScore           0.011988  -0.005908        0.025844        -0.002223   \n",
       "Age                  -0.028665  -0.013279        0.082351        -0.009181   \n",
       "Tenure                0.017197   0.023078       -0.029180         0.008055   \n",
       "Balance              -0.000343   0.005006       -0.007108        -0.004927   \n",
       "NumOfProducts         1.000000   0.003183        0.009612         0.014204   \n",
       "HasChckng             0.003183   1.000000       -0.011866        -0.009933   \n",
       "IsActiveMember        0.009612  -0.011866        1.000000        -0.011421   \n",
       "EstimatedSalary       0.014204  -0.009933       -0.011421         1.000000   \n",
       "Exited               -0.047820  -0.007138       -0.156128         0.012097   \n",
       "\n",
       "                   Exited  \n",
       "CustomerId      -0.006248  \n",
       "CreditScore     -0.027778  \n",
       "Age              0.280904  \n",
       "Tenure          -0.012178  \n",
       "Balance          0.017101  \n",
       "NumOfProducts   -0.047820  \n",
       "HasChckng       -0.007138  \n",
       "IsActiveMember  -0.156128  \n",
       "EstimatedSalary  0.012097  \n",
       "Exited           1.000000  "
      ]
     },
     "execution_count": 35,
     "metadata": {},
     "output_type": "execute_result"
    }
   ],
   "source": [
    "# estimate the pairise corelation of all the columns in a dataframe\n",
    "corr=df.corr()\n",
    "corr"
   ]
  },
  {
   "cell_type": "code",
   "execution_count": 36,
   "metadata": {},
   "outputs": [
    {
     "data": {
      "image/png": "[encoded data removed]",
      "text/plain": [
       "<Figure size 360x360 with 2 Axes>"
      ]
     },
     "metadata": {
      "needs_background": "light"
     },
     "output_type": "display_data"
    }
   ],
   "source": [
    "# plot the graph for the visualization of correlation\n",
    "plt.figure(figsize = (5, 5))\n",
    "sns.heatmap(corr, cmap=\"rocket_r\")\n",
    "plt.show()"
   ]
  },
  {
   "cell_type": "markdown",
   "metadata": {},
   "source": [
    "From the above correlation we observed that age has a weak positive correlation with the target variable. IsActiveMember has a weak negative correlation"
   ]
  },
  {
   "cell_type": "code",
   "execution_count": 37,
   "metadata": {},
   "outputs": [
    {
     "data": {
      "text/plain": [
       "CustomerId         0.001149\n",
       "CreditScore       -0.074818\n",
       "Age                1.278170\n",
       "Tenure             0.071980\n",
       "Balance            0.035456\n",
       "NumOfProducts      0.745568\n",
       "HasChckng         -0.901812\n",
       "IsActiveMember    -0.060437\n",
       "EstimatedSalary    0.002085\n",
       "Exited             1.471611\n",
       "dtype: float64"
      ]
     },
     "execution_count": 37,
     "metadata": {},
     "output_type": "execute_result"
    }
   ],
   "source": [
    "df.skew()"
   ]
  },
  {
   "cell_type": "markdown",
   "metadata": {},
   "source": [
    "# Lets try some Visualization techniques for the dataset"
   ]
  },
  {
   "cell_type": "code",
   "execution_count": 38,
   "metadata": {},
   "outputs": [],
   "source": [
    "# import visualization libraries\n",
    "import matplotlib.pyplot as plt\n",
    "import seaborn as sns\n",
    "plt.style.use('ggplot')\n",
    "%matplotlib inline"
   ]
  },
  {
   "cell_type": "code",
   "execution_count": 39,
   "metadata": {},
   "outputs": [
    {
     "data": {
      "text/plain": [
       "<matplotlib.axes._subplots.AxesSubplot at 0x207e26512b0>"
      ]
     },
     "execution_count": 39,
     "metadata": {},
     "output_type": "execute_result"
    },
    {
     "data": {
      "image/png": "[encoded data removed]",
      "text/plain": [
       "<Figure size 432x288 with 1 Axes>"
      ]
     },
     "metadata": {
      "needs_background": "light"
     },
     "output_type": "display_data"
    }
   ],
   "source": [
    "sns.countplot(x='Gender',data=df)"
   ]
  },
  {
   "cell_type": "code",
   "execution_count": 40,
   "metadata": {},
   "outputs": [
    {
     "data": {
      "text/plain": [
       "<matplotlib.axes._subplots.AxesSubplot at 0x207e28c8208>"
      ]
     },
     "execution_count": 40,
     "metadata": {},
     "output_type": "execute_result"
    },
    {
     "data": {
      "image/png": "[encoded data removed]",
      "text/plain": [
       "<Figure size 432x288 with 1 Axes>"
      ]
     },
     "metadata": {
      "needs_background": "light"
     },
     "output_type": "display_data"
    }
   ],
   "source": [
    "sns.boxplot(data=df,x='Age')"
   ]
  },
  {
   "cell_type": "code",
   "execution_count": 41,
   "metadata": {},
   "outputs": [
    {
     "data": {
      "text/plain": [
       "<matplotlib.axes._subplots.AxesSubplot at 0x207e26e55f8>"
      ]
     },
     "execution_count": 41,
     "metadata": {},
     "output_type": "execute_result"
    },
    {
     "data": {
      "image/png": "[encoded data removed]",
      "text/plain": [
       "<Figure size 432x288 with 1 Axes>"
      ]
     },
     "metadata": {
      "needs_background": "light"
     },
     "output_type": "display_data"
    }
   ],
   "source": [
    "sns.boxplot(data=df,x='Balance')"
   ]
  },
  {
   "cell_type": "code",
   "execution_count": 44,
   "metadata": {},
   "outputs": [
    {
     "data": {
      "text/plain": [
       "<matplotlib.axes._subplots.AxesSubplot at 0x207e2a4bcc0>"
      ]
     },
     "execution_count": 44,
     "metadata": {},
     "output_type": "execute_result"
    },
    {
     "data": {
      "image/png": "[encoded data removed]",
      "text/plain": [
       "<Figure size 432x288 with 1 Axes>"
      ]
     },
     "metadata": {
      "needs_background": "light"
     },
     "output_type": "display_data"
    }
   ],
   "source": [
    "sns.distplot(df.CreditScore,kde=True)"
   ]
  },
  {
   "cell_type": "code",
   "execution_count": 46,
   "metadata": {},
   "outputs": [
    {
     "data": {
      "text/plain": [
       "<matplotlib.axes._subplots.AxesSubplot at 0x207e28c8fd0>"
      ]
     },
     "execution_count": 46,
     "metadata": {},
     "output_type": "execute_result"
    },
    {
     "data": {
      "image/png": "[encoded data removed]",
      "text/plain": [
       "<Figure size 432x288 with 1 Axes>"
      ]
     },
     "metadata": {
      "needs_background": "light"
     },
     "output_type": "display_data"
    }
   ],
   "source": [
    "sns.distplot(df.EstimatedSalary,kde=True)"
   ]
  },
  {
   "cell_type": "code",
   "execution_count": 50,
   "metadata": {},
   "outputs": [
    {
     "data": {
      "text/plain": [
       "Geography\n",
       "Central    2477\n",
       "East       2509\n",
       "West       5014\n",
       "Name: Geography, dtype: int64"
      ]
     },
     "execution_count": 50,
     "metadata": {},
     "output_type": "execute_result"
    }
   ],
   "source": [
    "df.groupby('Geography')['Geography'].count()"
   ]
  },
  {
   "cell_type": "code",
   "execution_count": 51,
   "metadata": {},
   "outputs": [],
   "source": [
    "df5 = pd.crosstab(index=df['Geography'],columns=df['Exited'])\n",
    "df5.reset_index(inplace=True)"
   ]
  },
  {
   "cell_type": "code",
   "execution_count": 52,
   "metadata": {},
   "outputs": [
    {
     "data": {
      "text/html": [
       "<div>\n",
       "<style scoped>\n",
       "    .dataframe tbody tr th:only-of-type {\n",
       "        vertical-align: middle;\n",
       "    }\n",
       "\n",
       "    .dataframe tbody tr th {\n",
       "        vertical-align: top;\n",
       "    }\n",
       "\n",
       "    .dataframe thead th {\n",
       "        text-align: right;\n",
       "    }\n",
       "</style>\n",
       "<table border=\"1\" class=\"dataframe\">\n",
       "  <thead>\n",
       "    <tr style=\"text-align: right;\">\n",
       "      <th></th>\n",
       "      <th>Geography</th>\n",
       "      <th>Exited</th>\n",
       "      <th>value</th>\n",
       "    </tr>\n",
       "  </thead>\n",
       "  <tbody>\n",
       "    <tr>\n",
       "      <th>0</th>\n",
       "      <td>Central</td>\n",
       "      <td>0</td>\n",
       "      <td>2064</td>\n",
       "    </tr>\n",
       "    <tr>\n",
       "      <th>1</th>\n",
       "      <td>East</td>\n",
       "      <td>0</td>\n",
       "      <td>1695</td>\n",
       "    </tr>\n",
       "    <tr>\n",
       "      <th>2</th>\n",
       "      <td>West</td>\n",
       "      <td>0</td>\n",
       "      <td>4204</td>\n",
       "    </tr>\n",
       "    <tr>\n",
       "      <th>3</th>\n",
       "      <td>Central</td>\n",
       "      <td>1</td>\n",
       "      <td>413</td>\n",
       "    </tr>\n",
       "    <tr>\n",
       "      <th>4</th>\n",
       "      <td>East</td>\n",
       "      <td>1</td>\n",
       "      <td>814</td>\n",
       "    </tr>\n",
       "    <tr>\n",
       "      <th>5</th>\n",
       "      <td>West</td>\n",
       "      <td>1</td>\n",
       "      <td>810</td>\n",
       "    </tr>\n",
       "  </tbody>\n",
       "</table>\n",
       "</div>"
      ],
      "text/plain": [
       "  Geography Exited  value\n",
       "0   Central      0   2064\n",
       "1      East      0   1695\n",
       "2      West      0   4204\n",
       "3   Central      1    413\n",
       "4      East      1    814\n",
       "5      West      1    810"
      ]
     },
     "execution_count": 52,
     "metadata": {},
     "output_type": "execute_result"
    }
   ],
   "source": [
    "df6 = pd.melt(df5,id_vars=['Geography'])\n",
    "df6"
   ]
  },
  {
   "cell_type": "markdown",
   "metadata": {},
   "source": [
    "From the above analysis found that the highest number of people exited from East geography and Central has less churn."
   ]
  },
  {
   "cell_type": "code",
   "execution_count": 55,
   "metadata": {},
   "outputs": [
    {
     "data": {
      "text/plain": [
       "<matplotlib.axes._subplots.AxesSubplot at 0x207e2be0da0>"
      ]
     },
     "execution_count": 55,
     "metadata": {},
     "output_type": "execute_result"
    },
    {
     "data": {
      "image/png": "[encoded data removed]",
      "text/plain": [
       "<Figure size 360x360 with 1 Axes>"
      ]
     },
     "metadata": {
      "needs_background": "light"
     },
     "output_type": "display_data"
    }
   ],
   "source": [
    "plt.figure(figsize=(5,5))\n",
    "sns.countplot(x='Geography',data=df,hue='Exited')"
   ]
  },
  {
   "cell_type": "code",
   "execution_count": 57,
   "metadata": {},
   "outputs": [],
   "source": [
    "# sns.catplot(data=df6,x='Geography',y='value',hue='Exited',kind='bar')"
   ]
  },
  {
   "cell_type": "code",
   "execution_count": 59,
   "metadata": {},
   "outputs": [
    {
     "data": {
      "text/plain": [
       "<matplotlib.axes._subplots.AxesSubplot at 0x207e2cfe5c0>"
      ]
     },
     "execution_count": 59,
     "metadata": {},
     "output_type": "execute_result"
    },
    {
     "data": {
      "image/png": "[encoded data removed]",
      "text/plain": [
       "<Figure size 432x288 with 1 Axes>"
      ]
     },
     "metadata": {
      "needs_background": "light"
     },
     "output_type": "display_data"
    }
   ],
   "source": [
    "sns.countplot(x='Gender',data=df,hue='Exited')"
   ]
  }
 ],
 "metadata": {
  "kernelspec": {
   "display_name": "Python 3",
   "language": "python",
   "name": "python3"
  },
  "language_info": {
   "codemirror_mode": {
    "name": "ipython",
    "version": 3
   },
   "file_extension": ".py",
   "mimetype": "text/x-python",
   "name": "python",
   "nbconvert_exporter": "python",
   "pygments_lexer": "ipython3",
   "version": "3.7.3"
  }
 },
 "nbformat": 4,
 "nbformat_minor": 2
}
